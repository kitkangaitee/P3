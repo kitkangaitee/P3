{
 "cells": [
  {
   "cell_type": "markdown",
   "metadata": {},
   "source": [
    "<h1>Wrangling OSM file before creating CSV</h1>"
   ]
  },
  {
   "cell_type": "code",
   "execution_count": null,
   "metadata": {
    "collapsed": true
   },
   "outputs": [],
   "source": [
    "import xml.etree.cElementTree as ET\n",
    "import pprint\n",
    "import collections\n",
    "from collections import defaultdict\n",
    "import re\n",
    "\n"
   ]
  },
  {
   "cell_type": "markdown",
   "metadata": {},
   "source": [
    "<h2>Counting the different types of tags</h2>"
   ]
  },
  {
   "cell_type": "code",
   "execution_count": null,
   "metadata": {
    "collapsed": true
   },
   "outputs": [],
   "source": [
    "def count_tags(filename): #count the different types of tags\n",
    "    tags = collections.Counter()\n",
    "    for event, elem in ET.iterparse(filename):\n",
    "        tags[elem.tag] += 1\n",
    "    return tags"
   ]
  },
  {
   "cell_type": "code",
   "execution_count": null,
   "metadata": {
    "collapsed": false
   },
   "outputs": [],
   "source": [
    "tags = count_tags('coquitlam.osm')\n",
    "pprint.pprint(tags)"
   ]
  },
  {
   "cell_type": "markdown",
   "metadata": {},
   "source": [
    "<h2>Exploring Key types</h2>"
   ]
  },
  {
   "cell_type": "code",
   "execution_count": null,
   "metadata": {
    "collapsed": true
   },
   "outputs": [],
   "source": [
    "lower = re.compile(r'^([a-z]|_)*$')\n",
    "lower_colon = re.compile(r'^([a-z]|_)*:([a-z]|_)*$')\n",
    "problemchars = re.compile(r'[=\\+/&<>;\\'\"\\?%#$@\\,\\. \\t\\r\\n]')\n",
    "\n",
    "\n",
    "def key_type(element, keys):\n",
    "    if element.tag == \"tag\":\n",
    "        k = element.attrib['k']\n",
    "        if lower.search(k):\n",
    "            keys[\"lower\"] += 1\n",
    "        elif lower_colon.search(k):\n",
    "            keys[\"lower_colon\"] += 1\n",
    "        elif problemchars.search(k):\n",
    "            keys[\"problemchars\"] += 1\n",
    "            print k\n",
    "            print element.attrib['v']\n",
    "        else:\n",
    "            keys[\"other\"] += 1\n",
    "    return keys\n",
    "\n",
    "\n",
    "def keys(filename):\n",
    "    keys = {\"lower\": 0, \"lower_colon\": 0, \"problemchars\": 0, \"other\": 0}\n",
    "    for _, element in ET.iterparse(filename):\n",
    "        keys = key_type(element, keys)\n",
    "    return keys\n"
   ]
  },
  {
   "cell_type": "code",
   "execution_count": null,
   "metadata": {
    "collapsed": false
   },
   "outputs": [],
   "source": [
    "keys = keys('coquitlam.osm')\n",
    "pprint.pprint(keys)"
   ]
  },
  {
   "cell_type": "markdown",
   "metadata": {},
   "source": [
    "<h2>Finding the number of unique users</h2>"
   ]
  },
  {
   "cell_type": "code",
   "execution_count": null,
   "metadata": {
    "collapsed": true
   },
   "outputs": [],
   "source": [
    "def users(filename):\n",
    "    users = set()\n",
    "    for _, element in ET.iterparse(filename):\n",
    "        if get_user(element):\n",
    "            users.add(get_user(element))\n",
    "    return users\n",
    "\n",
    "def get_user(element):\n",
    "    if element.get('uid'):\n",
    "        uid=element.attrib['uid']\n",
    "        return uid\n",
    "    else:\n",
    "        return None\n"
   ]
  },
  {
   "cell_type": "code",
   "execution_count": null,
   "metadata": {
    "collapsed": false
   },
   "outputs": [],
   "source": [
    "users = users('coquitlam.osm')"
   ]
  },
  {
   "cell_type": "code",
   "execution_count": null,
   "metadata": {
    "collapsed": false
   },
   "outputs": [],
   "source": [
    "len(users)"
   ]
  },
  {
   "cell_type": "markdown",
   "metadata": {},
   "source": [
    "<h2>Auditing Street Types</h2>"
   ]
  },
  {
   "cell_type": "code",
   "execution_count": null,
   "metadata": {
    "collapsed": false
   },
   "outputs": [],
   "source": [
    "street_type_re = re.compile(r'\\b\\S+\\.?$', re.IGNORECASE)\n",
    "\n",
    "\n",
    "expected = [\"Street\", \"Avenue\", \"Boulevard\", \"Drive\", \"Court\", \"Place\", \"Square\", \"Lane\", \"Road\", \n",
    "            \"Trail\", \"Parkway\", \"Commons\", \"Close\", \"Crescent\", \"Way\", \"Highway\", \"East\" , \"Mall\", \"North\"]\n",
    "\n",
    "mapping = { \"St\": \"Street\",\n",
    "            \"St.\": \"Street\",\n",
    "            \"Ave\": \"Avenue\",\n",
    "            \"Rd.\": \"Road\",\n",
    "            \"Rd\": \"Road\"\n",
    "            }\n",
    "\n",
    "\n",
    "def audit_street_type(street_types, street_name):\n",
    "    m = street_type_re.search(street_name)\n",
    "    if m:\n",
    "        street_type = m.group()\n",
    "        if street_type not in expected:\n",
    "            street_types[street_type].add(street_name)\n",
    "\n",
    "\n",
    "def is_street_name(elem):\n",
    "    return (elem.attrib['k'] == \"addr:street\")\n",
    "\n",
    "\n",
    "def audit(osmfile):\n",
    "    osm_file = open(osmfile, \"r\")\n",
    "    street_types = defaultdict(set)\n",
    "    for event, elem in ET.iterparse(osm_file, events=(\"start\",)):\n",
    "\n",
    "        if elem.tag == \"node\" or elem.tag == \"way\":\n",
    "            for tag in elem.iter(\"tag\"):\n",
    "                if is_street_name(tag):\n",
    "                    audit_street_type(street_types, tag.attrib['v'])\n",
    "    osm_file.close()\n",
    "    return street_types\n"
   ]
  },
  {
   "cell_type": "code",
   "execution_count": null,
   "metadata": {
    "collapsed": false
   },
   "outputs": [],
   "source": [
    "faulty_name = audit('coquitlam.osm')"
   ]
  },
  {
   "cell_type": "code",
   "execution_count": null,
   "metadata": {
    "collapsed": false
   },
   "outputs": [],
   "source": [
    "faulty_name"
   ]
  },
  {
   "cell_type": "markdown",
   "metadata": {},
   "source": [
    "<h2>Cleaning data and creating csv</h2>"
   ]
  },
  {
   "cell_type": "code",
   "execution_count": null,
   "metadata": {
    "collapsed": false
   },
   "outputs": [],
   "source": [
    "import csv\n",
    "import codecs\n",
    "import re\n",
    "import xml.etree.cElementTree as ET\n",
    "\n",
    "import cerberus\n",
    "import schema\n",
    "import io\n",
    "\n",
    "OSM_PATH = \"example.osm\"\n",
    "\n",
    "NODES_PATH = \"nodes.csv\"\n",
    "NODE_TAGS_PATH = \"nodes_tags.csv\"\n",
    "WAYS_PATH = \"ways.csv\"\n",
    "WAY_NODES_PATH = \"ways_nodes.csv\"\n",
    "WAY_TAGS_PATH = \"ways_tags.csv\"\n",
    "\n",
    "LOWER_COLON = re.compile(r'^([a-z]|_)+:([a-z]|_)+')\n",
    "PROBLEMCHARS = re.compile(r'[=\\+/&<>;\\'\"\\?%#$@\\,\\. \\t\\r\\n]')\n",
    "\n",
    "SCHEMA = schema.schema\n",
    "\n",
    "# Make sure the fields order in the csvs matches the column order in the sql table schema\n",
    "NODE_FIELDS = ['id', 'lat', 'lon', 'user', 'uid', 'version', 'changeset', 'timestamp']\n",
    "NODE_TAGS_FIELDS = ['id', 'key', 'value', 'type']\n",
    "WAY_FIELDS = ['id', 'user', 'uid', 'version', 'changeset', 'timestamp']\n",
    "WAY_TAGS_FIELDS = ['id', 'key', 'value', 'type']\n",
    "WAY_NODES_FIELDS = ['id', 'node_id', 'position']\n",
    "\n",
    "\n",
    "def shape_element(element, node_attr_fields=NODE_FIELDS, way_attr_fields=WAY_FIELDS,\n",
    "                  problem_chars=PROBLEMCHARS, default_tag_type='regular'):\n",
    "    \"\"\"Clean and shape node or way XML element to Python dict\"\"\"\n",
    "\n",
    "    node_attribs = {}\n",
    "    way_attribs = {}\n",
    "    way_nodes = []\n",
    "    tags = []  # Handle secondary tags the same way for both node and way elements\n",
    "    secondary = {}\n",
    "    nd = {}\n",
    "\n",
    "    if element.tag == 'node':\n",
    "        for i in NODE_FIELDS:\n",
    "            node_attribs[i] = element.attrib[i]\n",
    "            \n",
    "        for child in element:\n",
    "            if child.tag == \"tag\":\n",
    "                v = child.attrib['v']\n",
    "                k = child.attrib['k']\n",
    "                if PROBLEMCHARS.search(k):\n",
    "                    pass\n",
    "                elif LOWER_COLON.search(k):\n",
    "                    splitted = k.split(\":\", 1)\n",
    "                    secondary['id'] = element.attrib['id']\n",
    "                    secondary['key'] = splitted[1]\n",
    "                    if splitted[1] == 'street': #fix street names\n",
    "                        if v in faulty_name['Ave']:\n",
    "                            new_v = update_name(v, mapping)\n",
    "                            secondary['value'] = new_v\n",
    "                        elif v in faulty_name['St.']:\n",
    "                            new_v = update_name(v, mapping)\n",
    "                            secondary['value'] = new_v\n",
    "                        else:\n",
    "                            secondary['value'] = v\n",
    "                    elif splitted[1] == 'postcode': #fix postcode\n",
    "                        new_postcode = update_postcode(v)\n",
    "                        secondary['value'] = new_postcode\n",
    "                    elif splitted[1] == 'province': #standardize province\n",
    "                        if v == 'British Columbia':\n",
    "                            standard_province = 'BC'\n",
    "                            secondary['value'] = standard_province\n",
    "                        else:\n",
    "                            secondary['value'] = v\n",
    "                    else:\n",
    "                        secondary['value'] = v\n",
    "                    secondary['type'] = splitted[0]\n",
    "                else:\n",
    "                    secondary['id'] = element.attrib['id']\n",
    "                    secondary['key'] = k\n",
    "                    secondary['value'] = v\n",
    "                    secondary['type'] = 'regular'\n",
    "                tags.append(secondary.copy())\n",
    "        return {'node': node_attribs, 'node_tags': tags}\n",
    "\n",
    "    elif element.tag == 'way':\n",
    "        for i in WAY_FIELDS:\n",
    "            way_attribs[i] = element.attrib[i]\n",
    "\n",
    "        p = 0 #for position number in ways_nodes\n",
    "        for child in element:\n",
    "            if child.tag == \"tag\":\n",
    "                v = child.attrib['v']\n",
    "                k = child.attrib['k']\n",
    "                if PROBLEMCHARS.search(k):\n",
    "                    pass\n",
    "                elif LOWER_COLON.search(k):\n",
    "                    splitted = k.split(\":\", 1)\n",
    "                    secondary['id'] = element.attrib['id']\n",
    "                    secondary['key'] = splitted[1]\n",
    "                    if splitted[1] == 'street': #fix street names\n",
    "                        if v in faulty_name['Ave']:\n",
    "                            new_v = update_name(v, mapping)\n",
    "                            secondary['value'] = new_v\n",
    "                        elif v in faulty_name['St.']:\n",
    "                            new_v = update_name(v, mapping)\n",
    "                            secondary['value'] = new_v\n",
    "                        else:\n",
    "                            secondary['value'] = v\n",
    "                    elif splitted[1] == 'postcode': #fix postcode\n",
    "                        new_postcode = update_postcode(v)\n",
    "                        secondary['value'] = new_postcode\n",
    "                    elif splitted[1] == 'province': #standardize province\n",
    "                        if v == 'British Columbia':\n",
    "                            standard_province = 'BC'\n",
    "                            secondary['value'] = standard_province\n",
    "                        else:\n",
    "                            secondary['value'] = v\n",
    "                    else:\n",
    "                        secondary['value'] = v\n",
    "                    secondary['type'] = splitted[0]\n",
    "                else:\n",
    "                    secondary['id'] = element.attrib['id']\n",
    "                    secondary['key'] = k\n",
    "                    secondary['value'] = v\n",
    "                    secondary['type'] = 'regular'\n",
    "                tags.append(secondary.copy())\n",
    "            elif child.tag == \"nd\":\n",
    "                nd['id'] = element.attrib['id']\n",
    "                nd['node_id'] = child.attrib['ref']\n",
    "                nd['position'] = p\n",
    "                p += 1\n",
    "                way_nodes.append(nd.copy())\n",
    "        return {'way': way_attribs, 'way_nodes': way_nodes, 'way_tags': tags}\n",
    "\n",
    "\n",
    "# ================================================== #\n",
    "#               Helper Functions                     #\n",
    "# ================================================== #\n",
    "def get_element(osm_file, tags=('node', 'way', 'relation')):\n",
    "    \"\"\"Yield element if it is the right type of tag\"\"\"\n",
    "\n",
    "    context = ET.iterparse(osm_file, events=('start', 'end'))\n",
    "    _, root = next(context)\n",
    "    for event, elem in context:\n",
    "        if event == 'end' and elem.tag in tags:\n",
    "            yield elem\n",
    "            root.clear()\n",
    "\n",
    "\n",
    "def validate_element(element, validator, schema=SCHEMA):\n",
    "    \"\"\"Raise ValidationError if element does not match schema\"\"\"\n",
    "    if validator.validate(element, schema) is not True:\n",
    "        field, errors = next(validator.errors.iteritems())\n",
    "        message_string = \"\\nElement of type '{0}' has the following errors:\\n{1}\"\n",
    "        error_strings = (\n",
    "            \"{0}: {1}\".format(k, v if isinstance(v, str) else \", \".join(v))\n",
    "            for k, v in errors.iteritems()\n",
    "        )\n",
    "        raise cerberus.ValidationError(\n",
    "            message_string.format(field, \"\\n\".join(error_strings))\n",
    "        )\n",
    "\n",
    "\n",
    "class UnicodeDictWriter(csv.DictWriter, object):\n",
    "    \"\"\"Extend csv.DictWriter to handle Unicode input\"\"\"\n",
    "\n",
    "    def writerow(self, row):\n",
    "        super(UnicodeDictWriter, self).writerow({\n",
    "            k: (v.encode('utf-8') if isinstance(v, unicode) else v) for k, v in row.iteritems()\n",
    "        })\n",
    "\n",
    "    def writerows(self, rows):\n",
    "        for row in rows:\n",
    "            self.writerow(row)\n",
    "\n",
    "def update_name(name, mapping): #used for fixing abbreviated street names\n",
    "    word = name.split()[-1]\n",
    "    for i in mapping:\n",
    "        if word == i:\n",
    "            new_name = name.rsplit(' ',1)[0] +' '+ mapping[i]\n",
    "    return new_name\n",
    "\n",
    "def update_postcode(postcode): #used for fixing postal codes\n",
    "    if len(postcode) == 6:\n",
    "        new_postcode = postcode[:3] + ' ' + postcode[3:]\n",
    "    else:\n",
    "        new_postcode = postcode\n",
    "    return new_postcode\n",
    "\n",
    "# ================================================== #\n",
    "#               Main Function                        #\n",
    "# ================================================== #\n",
    "def process_map(file_in, validate):\n",
    "    \"\"\"Iteratively process each XML element and write to csv(s)\"\"\"\n",
    "\n",
    "    with codecs.open(NODES_PATH, 'wb') as nodes_file, \\\n",
    "         codecs.open(NODE_TAGS_PATH, 'wb') as nodes_tags_file, \\\n",
    "         codecs.open(WAYS_PATH, 'wb') as ways_file, \\\n",
    "         codecs.open(WAY_NODES_PATH, 'wb') as way_nodes_file, \\\n",
    "         codecs.open(WAY_TAGS_PATH, 'wb') as way_tags_file:\n",
    "\n",
    "        nodes_writer = UnicodeDictWriter(nodes_file, NODE_FIELDS)\n",
    "        node_tags_writer = UnicodeDictWriter(nodes_tags_file, NODE_TAGS_FIELDS)\n",
    "        ways_writer = UnicodeDictWriter(ways_file, WAY_FIELDS)\n",
    "        way_nodes_writer = UnicodeDictWriter(way_nodes_file, WAY_NODES_FIELDS)\n",
    "        way_tags_writer = UnicodeDictWriter(way_tags_file, WAY_TAGS_FIELDS)\n",
    "\n",
    "        nodes_writer.writeheader()\n",
    "        node_tags_writer.writeheader()\n",
    "        ways_writer.writeheader()\n",
    "        way_nodes_writer.writeheader()\n",
    "        way_tags_writer.writeheader()\n",
    "\n",
    "        validator = cerberus.Validator()\n",
    "\n",
    "        for element in get_element(file_in, tags=('node', 'way')):\n",
    "            el = shape_element(element)\n",
    "            if el:\n",
    "                if validate is True:\n",
    "                    validate_element(el, validator)\n",
    "\n",
    "                if element.tag == 'node':\n",
    "                    nodes_writer.writerow(el['node'])\n",
    "                    node_tags_writer.writerows(el['node_tags'])\n",
    "                elif element.tag == 'way':\n",
    "                    ways_writer.writerow(el['way'])\n",
    "                    way_nodes_writer.writerows(el['way_nodes'])\n",
    "                    way_tags_writer.writerows(el['way_tags'])\n"
   ]
  },
  {
   "cell_type": "code",
   "execution_count": null,
   "metadata": {
    "collapsed": false
   },
   "outputs": [],
   "source": [
    "process_map('coquitlam.osm', validate=False)"
   ]
  },
  {
   "cell_type": "code",
   "execution_count": null,
   "metadata": {
    "collapsed": true
   },
   "outputs": [],
   "source": []
  }
 ],
 "metadata": {
  "anaconda-cloud": {},
  "kernelspec": {
   "display_name": "Python [Root]",
   "language": "python",
   "name": "Python [Root]"
  },
  "language_info": {
   "codemirror_mode": {
    "name": "ipython",
    "version": 2
   },
   "file_extension": ".py",
   "mimetype": "text/x-python",
   "name": "python",
   "nbconvert_exporter": "python",
   "pygments_lexer": "ipython2",
   "version": "2.7.12"
  }
 },
 "nbformat": 4,
 "nbformat_minor": 0
}
